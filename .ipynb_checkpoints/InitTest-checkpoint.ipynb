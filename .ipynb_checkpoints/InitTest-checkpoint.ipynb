{
 "cells": [
  {
   "cell_type": "code",
   "execution_count": null,
   "metadata": {
    "collapsed": false
   },
   "outputs": [],
   "source": [
    "import numpy as np, scipy as sp,pandas as pd, matplotlib.pyplot as plt\n",
    "import matplotlib, sklearn\n",
    "import os,sys,csv"
   ]
  },
  {
   "cell_type": "markdown",
   "metadata": {},
   "source": [
    "## Data IO"
   ]
  },
  {
   "cell_type": "code",
   "execution_count": null,
   "metadata": {
    "collapsed": false
   },
   "outputs": [],
   "source": [
    "trainPath= '../data/train.csv'\n",
    "testPath= '../test.csv'"
   ]
  },
  {
   "cell_type": "code",
   "execution_count": null,
   "metadata": {
    "collapsed": true
   },
   "outputs": [],
   "source": [
    "def csv_nrows(fpath):\n",
    "    count = 0\n",
    "    with open(fpath, \"r\") as csvfile:\n",
    "        reader = csv.reader(csvfile)\n",
    "        reader.next()\n",
    "        '''\n",
    "        for line in reader:\n",
    "            count += 1\n",
    "        '''\n",
    "        count = sum(1 for row in reader)\n",
    "    return count"
   ]
  },
  {
   "cell_type": "code",
   "execution_count": null,
   "metadata": {
    "collapsed": false
   },
   "outputs": [],
   "source": [
    "def csv_split(fpath, nrows=5000000):\n",
    "    count = csv_nrows(fpath)\n",
    "    fname, ext = os.path.splitext(fpath)\n",
    "    with open(fpath, \"r\") as csvfile:\n",
    "        reader = csv.reader(csvfile)\n",
    "        header = reader.next()\n",
    "        \n",
    "        count = 0\n",
    "        for line in reader:\n",
    "            if count% nrows == 0:\n",
    "                print \"New Patch\", int(count//nrows)\n",
    "                dpath = fname + '_' + str(count//nrows) + ext\n",
    "                writer = csv.writer(open(dpath, 'wb'))\n",
    "                writer.writerow(header)\n",
    "            writer.writerow(line)\n",
    "            count += 1\n",
    "\n",
    "\n",
    "    print count\n",
    "    print 'Done'"
   ]
  },
  {
   "cell_type": "code",
   "execution_count": null,
   "metadata": {
    "collapsed": false
   },
   "outputs": [],
   "source": [
    "csv_split(trainPath)"
   ]
  },
  {
   "cell_type": "code",
   "execution_count": null,
   "metadata": {
    "collapsed": false
   },
   "outputs": [],
   "source": [
    "print csv_nrows(trainPath)"
   ]
  },
  {
   "cell_type": "code",
   "execution_count": null,
   "metadata": {
    "collapsed": true
   },
   "outputs": [],
   "source": [
    "\n",
    "train_data = pd.read_csv(trainPath)\n",
    "test_data = pd.read_csv(testPath)"
   ]
  },
  {
   "cell_type": "markdown",
   "metadata": {},
   "source": [
    "## Feature Processing"
   ]
  },
  {
   "cell_type": "code",
   "execution_count": null,
   "metadata": {
    "collapsed": true
   },
   "outputs": [],
   "source": [
    "headers = ['date_time', \n",
    "           'site_name',\n",
    "           'posa_continent',\n",
    "           'user_location_country',\n",
    "           'user_location_region',\n",
    "           'user_location_city',\n",
    "           'orig_destination_distance',\n",
    "           'user_id',\n",
    "           'is_mobile',\n",
    "           'is_package',\n",
    "           'channel',\n",
    "           'srch_ci',\n",
    "           'srch_co',\n",
    "           'srch_adults_cnt',\n",
    "           'srch_children_cnt',\n",
    "           'srch_rm_cnt',\n",
    "           'srch_destination_id',\n",
    "           'srch_destination_type_id',\n",
    "           'hotel_continent',\n",
    "           'hotel_country',\n",
    "           'hotel_market',\n",
    "           'is_booking',\n",
    "           'cnt',\n",
    "           'hotel_cluster']\n",
    "\n",
    "new_fields = ['in_days', 'in_date']\n",
    "modified = ['date_time']\n",
    "\n",
    "updated = ['date_time',\n",
    "           'in_date',\n",
    "           'in_days',\n",
    "           'site_name',\n",
    "           'posa_continent',\n",
    "           'user_location_country',\n",
    "           'user_location_region',\n",
    "           'user_location_city',\n",
    "           'hotel_continent',\n",
    "           'hotel_country',\n",
    "           'hotel_market',\n",
    "           'srch_destination_id',\n",
    "           'orig_destination_distance',\n",
    "           'user_id',\n",
    "           'is_mobile',\n",
    "           'is_package',\n",
    "           'channel',\n",
    "           'srch_adults_cnt',\n",
    "           'srch_children_cnt',\n",
    "           'srch_rm_cnt',\n",
    "           'srch_destination_type_id',\n",
    "           'is_booking',\n",
    "           'cnt',\n",
    "           'hotel_cluster']"
   ]
  },
  {
   "cell_type": "code",
   "execution_count": null,
   "metadata": {
    "collapsed": false
   },
   "outputs": [],
   "source": [
    "sample = pd.read_csv('../data/train_0.csv')   "
   ]
  },
  {
   "cell_type": "code",
   "execution_count": null,
   "metadata": {
    "collapsed": false
   },
   "outputs": [],
   "source": [
    "def time_feature_processing(df):\n",
    "    def time_interval(row):\n",
    "        if pd.isnull(row['srch_ci']) or pd.isnull(row['srch_co']):\n",
    "            return 1\n",
    "        st = pd.Period(row['srch_ci'],freq='D')\n",
    "        et = pd.Period(row['srch_co'],freq='D') \n",
    "        return et-st\n",
    "    \n",
    "    def time_midpoint(row):\n",
    "        if pd.isnull(row['srch_ci']) or pd.isnull(row['srch_co']):\n",
    "            return 0\n",
    "        st = pd.Period(row['srch_ci'],freq='D')\n",
    "        et = pd.Period(row['srch_co'],freq='D') \n",
    "\n",
    "        date = st + (et - st) / 2\n",
    "        return  date.dayofyear - 1\n",
    "    \n",
    "    def time_dayofyear(row):\n",
    "        if pd.isnull(row['date_time']):\n",
    "            return 0\n",
    "        tstamp = pd.to_datetime(row['date_time'])\n",
    "        #print tstamp\n",
    "        return tstamp.dayofyear - 1 + tstamp.hour / 24.\n",
    "    \n",
    "    \n",
    "    df['in_days'] = df.apply(time_interval, axis= 1)\n",
    "    df['in_date'] = df.apply(time_midpoint, axis= 1)\n",
    "    df['date_time'] = df.apply(time_dayofyear, axis = 1)\n",
    "    df.drop('srch_ci', axis=1, inplace=True)\n",
    "    df.drop('srch_co', axis=1, inplace=True)"
   ]
  },
  {
   "cell_type": "code",
   "execution_count": null,
   "metadata": {
    "collapsed": false
   },
   "outputs": [],
   "source": [
    "def nan_feature_processing(df, colname):\n",
    "    med = df[colname].median()\n",
    "    df[colname] = df[colname].fillna(med)"
   ]
  },
  {
   "cell_type": "code",
   "execution_count": null,
   "metadata": {
    "collapsed": false,
    "scrolled": true
   },
   "outputs": [],
   "source": [
    "part_df = sample[:50000]\n",
    "time_feature_processing(part_df)\n",
    "nan_feature_processing(part_df,'orig_destination_distance')\n",
    "#part_df[updated]"
   ]
  },
  {
   "cell_type": "markdown",
   "metadata": {
    "collapsed": true
   },
   "source": [
    "## Feature Analysis"
   ]
  },
  {
   "cell_type": "code",
   "execution_count": null,
   "metadata": {
    "collapsed": false
   },
   "outputs": [],
   "source": [
    "corr_mat = part_df[updated].corr()\n",
    "plt.matshow(corr_mat)\n",
    "plt.colorbar(shrink=0.5)\n",
    "plt.xticks(np.arange(len(updated)),updated, rotation='vertical')\n",
    "plt.yticks(np.arange(len(updated)),updated)\n",
    "plt.show()"
   ]
  },
  {
   "cell_type": "markdown",
   "metadata": {},
   "source": [
    "## Model"
   ]
  },
  {
   "cell_type": "markdown",
   "metadata": {},
   "source": [
    "### Random Forest"
   ]
  },
  {
   "cell_type": "code",
   "execution_count": null,
   "metadata": {
    "collapsed": true
   },
   "outputs": [],
   "source": [
    "from sklearn.datasets import load_boston\n",
    "from sklearn.ensemble import RandomForestClassifier\n",
    "from sklearn.pipeline import Pipeline\n",
    "from sklearn.preprocessing import Imputer\n",
    "from sklearn.cross_validation import cross_val_score\n",
    "\n",
    "import ml_metrics as mtr"
   ]
  },
  {
   "cell_type": "code",
   "execution_count": null,
   "metadata": {
    "collapsed": false
   },
   "outputs": [],
   "source": [
    "X = part_df[updated[:-1]].as_matrix()\n",
    "y = part_df.hotel_cluster.as_matrix()"
   ]
  },
  {
   "cell_type": "code",
   "execution_count": null,
   "metadata": {
    "collapsed": false
   },
   "outputs": [],
   "source": [
    "def map_5_scorer(estimator, X, y):\n",
    "    prob = estimator.predict_proba(X)\n",
    "    def top5(row):\n",
    "        return sorted(range(len(row)), key=lambda k: row[k], reverse=True)\n",
    "    \n",
    "    y = map(lambda x:[x], y)\n",
    "    y_pred = np.apply_along_axis(top5, axis=1, arr=prob)\n",
    "    return mtr.mapk(y, y_pred, 5) "
   ]
  },
  {
   "cell_type": "code",
   "execution_count": null,
   "metadata": {
    "collapsed": false
   },
   "outputs": [],
   "source": [
    "estimator = Pipeline([(\"imputer\", Imputer(missing_values=0,\n",
    "                                          strategy=\"median\",\n",
    "                                          axis=0)),\n",
    "                      (\"forest\", RandomForestClassifier(n_estimators=100,\n",
    "                                                       n_jobs=3))])\n",
    "score = cross_val_score(estimator, X, y, cv=5, scoring=map_5_scorer)\n",
    "#print(\"Score = %.2f\" % score)\n",
    "print score, score.mean()"
   ]
  },
  {
   "cell_type": "code",
   "execution_count": null,
   "metadata": {
    "collapsed": true
   },
   "outputs": [],
   "source": []
  }
 ],
 "metadata": {
  "kernelspec": {
   "display_name": "Python 2",
   "language": "python",
   "name": "python2"
  },
  "language_info": {
   "codemirror_mode": {
    "name": "ipython",
    "version": 2
   },
   "file_extension": ".py",
   "mimetype": "text/x-python",
   "name": "python",
   "nbconvert_exporter": "python",
   "pygments_lexer": "ipython2",
   "version": "2.7.11"
  }
 },
 "nbformat": 4,
 "nbformat_minor": 0
}
