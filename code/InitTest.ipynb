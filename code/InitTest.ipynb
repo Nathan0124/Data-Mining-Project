{
 "cells": [
  {
   "cell_type": "markdown",
   "metadata": {
    "collapsed": false
   },
   "source": [
    "## Import Package"
   ]
  },
  {
   "cell_type": "code",
   "execution_count": 2,
   "metadata": {
    "collapsed": true
   },
   "outputs": [],
   "source": [
    "import numpy as np, scipy as sp,pandas as pd, matplotlib.pyplot as plt\n",
    "import matplotlib, sklearn\n",
    "import os,sys,csv"
   ]
  },
  {
   "cell_type": "markdown",
   "metadata": {},
   "source": [
    "## Data IO"
   ]
  },
  {
   "cell_type": "code",
   "execution_count": 3,
   "metadata": {
    "collapsed": false
   },
   "outputs": [],
   "source": [
    "trainPath= '../data/train.csv'\n",
    "testPath= '../test.csv'"
   ]
  },
  {
   "cell_type": "code",
   "execution_count": 5,
   "metadata": {
    "collapsed": true
   },
   "outputs": [],
   "source": [
    "def csv_nrows(fpath):\n",
    "    count = 0\n",
    "    with open(fpath, \"r\") as csvfile:\n",
    "        reader = csv.reader(csvfile)\n",
    "        reader.next()\n",
    "        '''\n",
    "        for line in reader:\n",
    "            count += 1\n",
    "        '''\n",
    "        count = sum(1 for row in reader)\n",
    "    return count"
   ]
  },
  {
   "cell_type": "code",
   "execution_count": 6,
   "metadata": {
    "collapsed": false
   },
   "outputs": [],
   "source": [
    "def csv_split(fpath, nrows=5000000):\n",
    "    count = csv_nrows(fpath)\n",
    "    fname, ext = os.path.splitext(fpath)\n",
    "    with open(fpath, \"r\") as csvfile:\n",
    "        reader = csv.reader(csvfile)\n",
    "        header = reader.next()\n",
    "        \n",
    "        count = 0\n",
    "        for line in reader:\n",
    "            if count% nrows == 0:\n",
    "                print \"New Patch\", int(count//nrows)\n",
    "                dpath = fname + '_' + str(count//nrows) + ext\n",
    "                writer = csv.writer(open(dpath, 'wb'))\n",
    "                writer.writerow(header)\n",
    "            writer.writerow(line)\n",
    "            count += 1\n",
    "\n",
    "\n",
    "    print count\n",
    "    print 'Done'"
   ]
  },
  {
   "cell_type": "code",
   "execution_count": null,
   "metadata": {
    "collapsed": false
   },
   "outputs": [],
   "source": [
    "def csv_filter(fpath, dpath, field = 'is_booking', value='1'):\n",
    "    fname, ext = os.path.splitext(fpath)\n",
    "    with open(fpath, \"r\") as csvfile:\n",
    "        reader = csv.reader(csvfile)\n",
    "        header = reader.next()\n",
    "        idx = header.index(field)\n",
    "        \n",
    "        writer = csv.writer(open(dpath, 'wb'))\n",
    "        writer.writerow(header)\n",
    "        count = 0\n",
    "        valid = 0\n",
    "        for line in reader:\n",
    "            if count%1000000 == 0:\n",
    "                print \"Progress:\", str(count), str(valid)\n",
    "            if line[idx] == value:         \n",
    "                writer.writerow(line)\n",
    "                valid += 1\n",
    "            count += 1\n",
    "\n",
    "    print 'Done'"
   ]
  },
  {
   "cell_type": "code",
   "execution_count": null,
   "metadata": {
    "collapsed": false
   },
   "outputs": [],
   "source": [
    "#csv_split(trainPath)\n",
    "bookingtrainPath= '../data/booking_train.csv'\n",
    "csv_filter(trainPath, bookingtrainPath)"
   ]
  },
  {
   "cell_type": "code",
   "execution_count": null,
   "metadata": {
    "collapsed": false
   },
   "outputs": [],
   "source": [
    "print csv_nrows(trainPath)"
   ]
  },
  {
   "cell_type": "markdown",
   "metadata": {},
   "source": [
    "## Feature Processing"
   ]
  },
  {
   "cell_type": "code",
   "execution_count": 4,
   "metadata": {
    "collapsed": true
   },
   "outputs": [],
   "source": [
    "headers = ['date_time', \n",
    "           'site_name',\n",
    "           'posa_continent',\n",
    "           'user_location_country',\n",
    "           'user_location_region',\n",
    "           'user_location_city',\n",
    "           'orig_destination_distance',\n",
    "           'user_id',\n",
    "           'is_mobile',\n",
    "           'is_package',\n",
    "           'channel',\n",
    "           'srch_ci',\n",
    "           'srch_co',\n",
    "           'srch_adults_cnt',\n",
    "           'srch_children_cnt',\n",
    "           'srch_rm_cnt',\n",
    "           'srch_destination_id',\n",
    "           'srch_destination_type_id',\n",
    "           'hotel_continent',\n",
    "           'hotel_country',\n",
    "           'hotel_market',\n",
    "           'is_booking',\n",
    "           'cnt',\n",
    "           'hotel_cluster']\n",
    "\n",
    "new_fields = ['in_days', 'in_date']\n",
    "modified = ['date_time']\n",
    "\n",
    "updated = ['date_time',\n",
    "           'in_date',\n",
    "           'in_days',\n",
    "           'site_name',\n",
    "           'posa_continent',\n",
    "           'user_location_country',\n",
    "           'user_location_region',\n",
    "           'user_location_city',\n",
    "           'hotel_continent',\n",
    "           'hotel_country',\n",
    "           'hotel_market',\n",
    "           'srch_destination_id',\n",
    "           'orig_destination_distance',\n",
    "           'user_id',\n",
    "           'is_mobile',\n",
    "           'is_package',\n",
    "           'channel',\n",
    "           'srch_adults_cnt',\n",
    "           'srch_children_cnt',\n",
    "           'srch_rm_cnt',\n",
    "           'srch_destination_type_id',\n",
    "           'is_booking',\n",
    "           'cnt',\n",
    "           'hotel_cluster']"
   ]
  },
  {
   "cell_type": "code",
   "execution_count": 5,
   "metadata": {
    "collapsed": false
   },
   "outputs": [],
   "source": [
    "sample = pd.read_csv('../data/train_0.csv')   "
   ]
  },
  {
   "cell_type": "code",
   "execution_count": 6,
   "metadata": {
    "collapsed": false
   },
   "outputs": [],
   "source": [
    "def time_feature_processing(df,  drop = True):\n",
    "    def time_interval(row):\n",
    "        if pd.isnull(row['srch_ci']) or pd.isnull(row['srch_co']):\n",
    "            return 1\n",
    "        st = pd.Period(row['srch_ci'],freq='D')\n",
    "        et = pd.Period(row['srch_co'],freq='D') \n",
    "        return et-st\n",
    "    \n",
    "    def time_midpoint(row):\n",
    "        if pd.isnull(row['srch_ci']) or pd.isnull(row['srch_co']):\n",
    "            return 0\n",
    "        st = pd.Period(row['srch_ci'],freq='D')\n",
    "        et = pd.Period(row['srch_co'],freq='D') \n",
    "\n",
    "        date = st + (et - st) / 2\n",
    "        return  date.dayofyear - 1\n",
    "    \n",
    "    def time_dayofyear(row):\n",
    "        if pd.isnull(row['date_time']):\n",
    "            return 0\n",
    "        tstamp = pd.to_datetime(row['date_time'])\n",
    "        #print tstamp\n",
    "        return tstamp.dayofyear - 1 + tstamp.hour / 24.\n",
    "    \n",
    "    \n",
    "    df['in_days'] = df.apply(time_interval, axis= 1)\n",
    "    df['in_date'] = df.apply(time_midpoint, axis= 1)\n",
    "    df['date_time'] = df.apply(time_dayofyear, axis = 1)\n",
    "    \n",
    "    if drop:\n",
    "        df.drop('srch_ci', axis=1, inplace=True)\n",
    "        df.drop('srch_co', axis=1, inplace=True)\n",
    "    else:\n",
    "        df['srch_ci'] = pd.PeriodIndex(df['srch_ci'], freq='D').dayofyear -1\n",
    "        df['srch_co'] = pd.PeriodIndex(df['srch_co'], freq='D').dayofyear -1\n",
    "        "
   ]
  },
  {
   "cell_type": "code",
   "execution_count": 7,
   "metadata": {
    "collapsed": false
   },
   "outputs": [],
   "source": [
    "def nan_feature_processing(df, colname):\n",
    "    med = df[colname].median()\n",
    "    df[colname] = df[colname].fillna(med)"
   ]
  },
  {
   "cell_type": "code",
   "execution_count": 8,
   "metadata": {
    "collapsed": false,
    "scrolled": false
   },
   "outputs": [
    {
     "name": "stderr",
     "output_type": "stream",
     "text": [
      "/home/nianzu/miniconda2/envs/work/lib/python2.7/site-packages/ipykernel/__main__.py:26: SettingWithCopyWarning: \n",
      "A value is trying to be set on a copy of a slice from a DataFrame.\n",
      "Try using .loc[row_indexer,col_indexer] = value instead\n",
      "\n",
      "See the caveats in the documentation: http://pandas.pydata.org/pandas-docs/stable/indexing.html#indexing-view-versus-copy\n",
      "/home/nianzu/miniconda2/envs/work/lib/python2.7/site-packages/ipykernel/__main__.py:27: SettingWithCopyWarning: \n",
      "A value is trying to be set on a copy of a slice from a DataFrame.\n",
      "Try using .loc[row_indexer,col_indexer] = value instead\n",
      "\n",
      "See the caveats in the documentation: http://pandas.pydata.org/pandas-docs/stable/indexing.html#indexing-view-versus-copy\n",
      "/home/nianzu/miniconda2/envs/work/lib/python2.7/site-packages/ipykernel/__main__.py:28: SettingWithCopyWarning: \n",
      "A value is trying to be set on a copy of a slice from a DataFrame.\n",
      "Try using .loc[row_indexer,col_indexer] = value instead\n",
      "\n",
      "See the caveats in the documentation: http://pandas.pydata.org/pandas-docs/stable/indexing.html#indexing-view-versus-copy\n",
      "/home/nianzu/miniconda2/envs/work/lib/python2.7/site-packages/ipykernel/__main__.py:34: SettingWithCopyWarning: \n",
      "A value is trying to be set on a copy of a slice from a DataFrame.\n",
      "Try using .loc[row_indexer,col_indexer] = value instead\n",
      "\n",
      "See the caveats in the documentation: http://pandas.pydata.org/pandas-docs/stable/indexing.html#indexing-view-versus-copy\n",
      "/home/nianzu/miniconda2/envs/work/lib/python2.7/site-packages/ipykernel/__main__.py:35: SettingWithCopyWarning: \n",
      "A value is trying to be set on a copy of a slice from a DataFrame.\n",
      "Try using .loc[row_indexer,col_indexer] = value instead\n",
      "\n",
      "See the caveats in the documentation: http://pandas.pydata.org/pandas-docs/stable/indexing.html#indexing-view-versus-copy\n",
      "/home/nianzu/miniconda2/envs/work/lib/python2.7/site-packages/ipykernel/__main__.py:3: SettingWithCopyWarning: \n",
      "A value is trying to be set on a copy of a slice from a DataFrame.\n",
      "Try using .loc[row_indexer,col_indexer] = value instead\n",
      "\n",
      "See the caveats in the documentation: http://pandas.pydata.org/pandas-docs/stable/indexing.html#indexing-view-versus-copy\n",
      "  app.launch_new_instance()\n"
     ]
    }
   ],
   "source": [
    "part_df = sample[sample.is_booking == 1]\n",
    "time_feature_processing(part_df, False)\n",
    "nan_feature_processing(part_df,'orig_destination_distance')\n",
    "#part_df[updated]"
   ]
  },
  {
   "cell_type": "markdown",
   "metadata": {
    "collapsed": true
   },
   "source": [
    "## Feature Analysis"
   ]
  },
  {
   "cell_type": "code",
   "execution_count": null,
   "metadata": {
    "collapsed": false
   },
   "outputs": [],
   "source": [
    "# correlation matrix of raw feature\n",
    "corr_mat = part_df[headers[:-3]].corr()\n",
    "plt.matshow(corr_mat)\n",
    "plt.colorbar(shrink=0.5)\n",
    "plt.xticks(np.arange(len(headers)-3), headers[:-3], rotation='vertical')\n",
    "plt.yticks(np.arange(len(headers)-3), headers[:-3])\n",
    "plt.show()"
   ]
  },
  {
   "cell_type": "code",
   "execution_count": null,
   "metadata": {
    "collapsed": false
   },
   "outputs": [],
   "source": [
    "# correlation matrix of description\n",
    "des = pd.read_csv('../data/destinations.csv') \n",
    "\n",
    "corrmat = des.corr()\n",
    "plt.matshow(corrmat)\n",
    "plt.colorbar(shrink=0.5)\n",
    "plt.show()"
   ]
  },
  {
   "cell_type": "markdown",
   "metadata": {},
   "source": [
    "## Model"
   ]
  },
  {
   "cell_type": "markdown",
   "metadata": {},
   "source": [
    "### Random Forest"
   ]
  },
  {
   "cell_type": "code",
   "execution_count": 9,
   "metadata": {
    "collapsed": true
   },
   "outputs": [],
   "source": [
    "from sklearn.datasets import load_boston\n",
    "from sklearn.ensemble import RandomForestClassifier\n",
    "from sklearn.pipeline import Pipeline\n",
    "from sklearn.preprocessing import Imputer\n",
    "from sklearn.cross_validation import cross_val_score\n",
    "\n",
    "import ml_metrics as mtr"
   ]
  },
  {
   "cell_type": "code",
   "execution_count": 10,
   "metadata": {
    "collapsed": false
   },
   "outputs": [],
   "source": [
    "X = part_df[updated[:-3]].as_matrix()\n",
    "y = part_df.hotel_cluster.as_matrix()"
   ]
  },
  {
   "cell_type": "code",
   "execution_count": 11,
   "metadata": {
    "collapsed": false
   },
   "outputs": [],
   "source": [
    "def map_5_scorer(estimator, X, y):\n",
    "    prob = estimator.predict_proba(X)\n",
    "    labels = np.array(estimator.classes_)\n",
    "    \n",
    "    def top5(prob):\n",
    "        indice = sorted(range(len(prob)), key=lambda k: prob[k], reverse=True)\n",
    "        return labels[indice].tolist()\n",
    "    \n",
    "    y = map(lambda x:[x], y)\n",
    "    y_pred = np.apply_along_axis(top5, axis=1, arr=prob)\n",
    "    return mtr.mapk(y, y_pred, 5) "
   ]
  },
  {
   "cell_type": "code",
   "execution_count": null,
   "metadata": {
    "collapsed": false
   },
   "outputs": [],
   "source": [
    "estimator = Pipeline([(\"imputer\", Imputer(missing_values=0,\n",
    "                                          strategy=\"median\",\n",
    "                                          axis=0)),\n",
    "                      (\"forest\", RandomForestClassifier(n_estimators=10,\n",
    "                                                       n_jobs=1))])\n",
    "score = cross_val_score(estimator, X, y, cv=5, scoring=map_5_scorer)\n",
    "#print(\"Score = %.2f\" % score)\n",
    "print score, score.mean()"
   ]
  },
  {
   "cell_type": "code",
   "execution_count": 12,
   "metadata": {
    "collapsed": false
   },
   "outputs": [
    {
     "data": {
      "text/plain": [
       "401443"
      ]
     },
     "execution_count": 12,
     "metadata": {},
     "output_type": "execute_result"
    }
   ],
   "source": [
    "len(X)"
   ]
  },
  {
   "cell_type": "code",
   "execution_count": null,
   "metadata": {
    "collapsed": true
   },
   "outputs": [],
   "source": []
  }
 ],
 "metadata": {
  "kernelspec": {
   "display_name": "Python 2",
   "language": "python",
   "name": "python2"
  },
  "language_info": {
   "codemirror_mode": {
    "name": "ipython",
    "version": 2
   },
   "file_extension": ".py",
   "mimetype": "text/x-python",
   "name": "python",
   "nbconvert_exporter": "python",
   "pygments_lexer": "ipython2",
   "version": "2.7.11"
  }
 },
 "nbformat": 4,
 "nbformat_minor": 0
}
